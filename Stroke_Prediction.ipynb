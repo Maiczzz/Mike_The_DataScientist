{
 "cells": [
  {
   "cell_type": "markdown",
   "source": [
    "# Stroke Prediction"
   ],
   "metadata": {
    "collapsed": false,
    "pycharm": {
     "name": "#%% md\n"
    }
   }
  },
  {
   "cell_type": "markdown",
   "source": [
    "#### Importo le librerie"
   ],
   "metadata": {
    "collapsed": false,
    "pycharm": {
     "name": "#%% md\n"
    }
   }
  },
  {
   "cell_type": "code",
   "execution_count": 1,
   "outputs": [],
   "source": [
    "from pyspark.sql import SparkSession\n",
    "import numpy as np\n",
    "import pandas as pd\n",
    "from pyspark.sql.functions import isnan\n",
    "from pyspark.sql.functions import col\n",
    "from pyspark.sql.functions import count\n",
    "from pyspark.sql.functions import when\n",
    "from pyspark.ml.feature import StringIndexer\n",
    "from pyspark.ml.feature import VectorAssembler\n",
    "from pyspark.ml.feature import OneHotEncoder\n",
    "from pyspark.ml import Pipeline\n",
    "from pyspark.ml.classification import LogisticRegression\n",
    "from pyspark.ml.evaluation import BinaryClassificationEvaluator\n",
    "from pyspark.ml.classification import RandomForestClassifier\n",
    "from matplotlib import pyplot as plt\n",
    "import seaborn as sns"
   ],
   "metadata": {
    "collapsed": false,
    "pycharm": {
     "name": "#%%\n"
    }
   }
  },
  {
   "cell_type": "markdown",
   "source": [
    "#### Apriamo la sessione di Spark e carichiamo il dataset"
   ],
   "metadata": {
    "collapsed": false,
    "pycharm": {
     "name": "#%% md\n"
    }
   }
  },
  {
   "cell_type": "code",
   "execution_count": 2,
   "outputs": [],
   "source": [
    "spark = SparkSession.builder.appName('project').getOrCreate()\n",
    "df = spark.read.csv(\"healthcare-dataset-stroke-data.csv\", inferSchema=True, header=True)"
   ],
   "metadata": {
    "collapsed": false,
    "pycharm": {
     "name": "#%%\n"
    }
   }
  },
  {
   "cell_type": "markdown",
   "source": [
    "#### Prima visualizzazione del dataset"
   ],
   "metadata": {
    "collapsed": false,
    "pycharm": {
     "name": "#%% md\n"
    }
   }
  },
  {
   "cell_type": "code",
   "execution_count": 3,
   "outputs": [
    {
     "name": "stdout",
     "output_type": "stream",
     "text": [
      "+-----+------+----+------------+-------------+------------+-------------+--------------+-----------------+----+---------------+------+\n",
      "|   id|gender| age|hypertension|heart_disease|ever_married|    work_type|Residence_type|avg_glucose_level| bmi| smoking_status|stroke|\n",
      "+-----+------+----+------------+-------------+------------+-------------+--------------+-----------------+----+---------------+------+\n",
      "| 9046|  Male|67.0|           0|            1|         Yes|      Private|         Urban|           228.69|36.6|formerly smoked|     1|\n",
      "|51676|Female|61.0|           0|            0|         Yes|Self-employed|         Rural|           202.21| N/A|   never smoked|     1|\n",
      "|31112|  Male|80.0|           0|            1|         Yes|      Private|         Rural|           105.92|32.5|   never smoked|     1|\n",
      "|60182|Female|49.0|           0|            0|         Yes|      Private|         Urban|           171.23|34.4|         smokes|     1|\n",
      "| 1665|Female|79.0|           1|            0|         Yes|Self-employed|         Rural|           174.12|  24|   never smoked|     1|\n",
      "|56669|  Male|81.0|           0|            0|         Yes|      Private|         Urban|           186.21|  29|formerly smoked|     1|\n",
      "|53882|  Male|74.0|           1|            1|         Yes|      Private|         Rural|            70.09|27.4|   never smoked|     1|\n",
      "+-----+------+----+------------+-------------+------------+-------------+--------------+-----------------+----+---------------+------+\n",
      "only showing top 7 rows\n",
      "\n"
     ]
    }
   ],
   "source": [
    "df.show(7)"
   ],
   "metadata": {
    "collapsed": false,
    "pycharm": {
     "name": "#%%\n"
    }
   }
  },
  {
   "cell_type": "markdown",
   "source": [
    "#### Visualizzo anche attraverso Pandas, che ci da una visualizzazione più accattivante del dataset"
   ],
   "metadata": {
    "collapsed": false,
    "pycharm": {
     "name": "#%% md\n"
    }
   }
  },
  {
   "cell_type": "code",
   "execution_count": 4,
   "outputs": [
    {
     "data": {
      "text/plain": "         id  gender   age  hypertension  heart_disease ever_married  \\\n0      9046    Male  67.0             0              1          Yes   \n1     51676  Female  61.0             0              0          Yes   \n2     31112    Male  80.0             0              1          Yes   \n3     60182  Female  49.0             0              0          Yes   \n4      1665  Female  79.0             1              0          Yes   \n...     ...     ...   ...           ...            ...          ...   \n5105  18234  Female  80.0             1              0          Yes   \n5106  44873  Female  81.0             0              0          Yes   \n5107  19723  Female  35.0             0              0          Yes   \n5108  37544    Male  51.0             0              0          Yes   \n5109  44679  Female  44.0             0              0          Yes   \n\n          work_type Residence_type  avg_glucose_level   bmi   smoking_status  \\\n0           Private          Urban             228.69  36.6  formerly smoked   \n1     Self-employed          Rural             202.21   N/A     never smoked   \n2           Private          Rural             105.92  32.5     never smoked   \n3           Private          Urban             171.23  34.4           smokes   \n4     Self-employed          Rural             174.12    24     never smoked   \n...             ...            ...                ...   ...              ...   \n5105        Private          Urban              83.75   N/A     never smoked   \n5106  Self-employed          Urban             125.20    40     never smoked   \n5107  Self-employed          Rural              82.99  30.6     never smoked   \n5108        Private          Rural             166.29  25.6  formerly smoked   \n5109       Govt_job          Urban              85.28  26.2          Unknown   \n\n      stroke  \n0          1  \n1          1  \n2          1  \n3          1  \n4          1  \n...      ...  \n5105       0  \n5106       0  \n5107       0  \n5108       0  \n5109       0  \n\n[5110 rows x 12 columns]",
      "text/html": "<div>\n<style scoped>\n    .dataframe tbody tr th:only-of-type {\n        vertical-align: middle;\n    }\n\n    .dataframe tbody tr th {\n        vertical-align: top;\n    }\n\n    .dataframe thead th {\n        text-align: right;\n    }\n</style>\n<table border=\"1\" class=\"dataframe\">\n  <thead>\n    <tr style=\"text-align: right;\">\n      <th></th>\n      <th>id</th>\n      <th>gender</th>\n      <th>age</th>\n      <th>hypertension</th>\n      <th>heart_disease</th>\n      <th>ever_married</th>\n      <th>work_type</th>\n      <th>Residence_type</th>\n      <th>avg_glucose_level</th>\n      <th>bmi</th>\n      <th>smoking_status</th>\n      <th>stroke</th>\n    </tr>\n  </thead>\n  <tbody>\n    <tr>\n      <th>0</th>\n      <td>9046</td>\n      <td>Male</td>\n      <td>67.0</td>\n      <td>0</td>\n      <td>1</td>\n      <td>Yes</td>\n      <td>Private</td>\n      <td>Urban</td>\n      <td>228.69</td>\n      <td>36.6</td>\n      <td>formerly smoked</td>\n      <td>1</td>\n    </tr>\n    <tr>\n      <th>1</th>\n      <td>51676</td>\n      <td>Female</td>\n      <td>61.0</td>\n      <td>0</td>\n      <td>0</td>\n      <td>Yes</td>\n      <td>Self-employed</td>\n      <td>Rural</td>\n      <td>202.21</td>\n      <td>N/A</td>\n      <td>never smoked</td>\n      <td>1</td>\n    </tr>\n    <tr>\n      <th>2</th>\n      <td>31112</td>\n      <td>Male</td>\n      <td>80.0</td>\n      <td>0</td>\n      <td>1</td>\n      <td>Yes</td>\n      <td>Private</td>\n      <td>Rural</td>\n      <td>105.92</td>\n      <td>32.5</td>\n      <td>never smoked</td>\n      <td>1</td>\n    </tr>\n    <tr>\n      <th>3</th>\n      <td>60182</td>\n      <td>Female</td>\n      <td>49.0</td>\n      <td>0</td>\n      <td>0</td>\n      <td>Yes</td>\n      <td>Private</td>\n      <td>Urban</td>\n      <td>171.23</td>\n      <td>34.4</td>\n      <td>smokes</td>\n      <td>1</td>\n    </tr>\n    <tr>\n      <th>4</th>\n      <td>1665</td>\n      <td>Female</td>\n      <td>79.0</td>\n      <td>1</td>\n      <td>0</td>\n      <td>Yes</td>\n      <td>Self-employed</td>\n      <td>Rural</td>\n      <td>174.12</td>\n      <td>24</td>\n      <td>never smoked</td>\n      <td>1</td>\n    </tr>\n    <tr>\n      <th>...</th>\n      <td>...</td>\n      <td>...</td>\n      <td>...</td>\n      <td>...</td>\n      <td>...</td>\n      <td>...</td>\n      <td>...</td>\n      <td>...</td>\n      <td>...</td>\n      <td>...</td>\n      <td>...</td>\n      <td>...</td>\n    </tr>\n    <tr>\n      <th>5105</th>\n      <td>18234</td>\n      <td>Female</td>\n      <td>80.0</td>\n      <td>1</td>\n      <td>0</td>\n      <td>Yes</td>\n      <td>Private</td>\n      <td>Urban</td>\n      <td>83.75</td>\n      <td>N/A</td>\n      <td>never smoked</td>\n      <td>0</td>\n    </tr>\n    <tr>\n      <th>5106</th>\n      <td>44873</td>\n      <td>Female</td>\n      <td>81.0</td>\n      <td>0</td>\n      <td>0</td>\n      <td>Yes</td>\n      <td>Self-employed</td>\n      <td>Urban</td>\n      <td>125.20</td>\n      <td>40</td>\n      <td>never smoked</td>\n      <td>0</td>\n    </tr>\n    <tr>\n      <th>5107</th>\n      <td>19723</td>\n      <td>Female</td>\n      <td>35.0</td>\n      <td>0</td>\n      <td>0</td>\n      <td>Yes</td>\n      <td>Self-employed</td>\n      <td>Rural</td>\n      <td>82.99</td>\n      <td>30.6</td>\n      <td>never smoked</td>\n      <td>0</td>\n    </tr>\n    <tr>\n      <th>5108</th>\n      <td>37544</td>\n      <td>Male</td>\n      <td>51.0</td>\n      <td>0</td>\n      <td>0</td>\n      <td>Yes</td>\n      <td>Private</td>\n      <td>Rural</td>\n      <td>166.29</td>\n      <td>25.6</td>\n      <td>formerly smoked</td>\n      <td>0</td>\n    </tr>\n    <tr>\n      <th>5109</th>\n      <td>44679</td>\n      <td>Female</td>\n      <td>44.0</td>\n      <td>0</td>\n      <td>0</td>\n      <td>Yes</td>\n      <td>Govt_job</td>\n      <td>Urban</td>\n      <td>85.28</td>\n      <td>26.2</td>\n      <td>Unknown</td>\n      <td>0</td>\n    </tr>\n  </tbody>\n</table>\n<p>5110 rows × 12 columns</p>\n</div>"
     },
     "execution_count": 4,
     "metadata": {},
     "output_type": "execute_result"
    }
   ],
   "source": [
    "pd_df = df.toPandas()\n",
    "pd_df"
   ],
   "metadata": {
    "collapsed": false,
    "pycharm": {
     "name": "#%%\n"
    }
   }
  },
  {
   "cell_type": "markdown",
   "source": [
    "#### Vediamo anche la forma del dataset, ossia da quante righe e colonne è composto:"
   ],
   "metadata": {
    "collapsed": false,
    "pycharm": {
     "name": "#%% md\n"
    }
   }
  },
  {
   "cell_type": "code",
   "execution_count": 5,
   "outputs": [
    {
     "data": {
      "text/plain": "(5110, 12)"
     },
     "execution_count": 5,
     "metadata": {},
     "output_type": "execute_result"
    }
   ],
   "source": [
    "pd_df.shape"
   ],
   "metadata": {
    "collapsed": false,
    "pycharm": {
     "name": "#%%\n"
    }
   }
  },
  {
   "cell_type": "markdown",
   "source": [
    "#### Visualizziamo altre informazioni aggiuntive, come il tipo delle variabili:"
   ],
   "metadata": {
    "collapsed": false,
    "pycharm": {
     "name": "#%% md\n"
    }
   }
  },
  {
   "cell_type": "code",
   "execution_count": 6,
   "outputs": [
    {
     "name": "stdout",
     "output_type": "stream",
     "text": [
      "root\n",
      " |-- id: integer (nullable = true)\n",
      " |-- gender: string (nullable = true)\n",
      " |-- age: double (nullable = true)\n",
      " |-- hypertension: integer (nullable = true)\n",
      " |-- heart_disease: integer (nullable = true)\n",
      " |-- ever_married: string (nullable = true)\n",
      " |-- work_type: string (nullable = true)\n",
      " |-- Residence_type: string (nullable = true)\n",
      " |-- avg_glucose_level: double (nullable = true)\n",
      " |-- bmi: string (nullable = true)\n",
      " |-- smoking_status: string (nullable = true)\n",
      " |-- stroke: integer (nullable = true)\n",
      "\n"
     ]
    }
   ],
   "source": [
    "df.printSchema()"
   ],
   "metadata": {
    "collapsed": false,
    "pycharm": {
     "name": "#%%\n"
    }
   }
  },
  {
   "cell_type": "markdown",
   "source": [
    "#### Un piccolo summary di alcune variabili, principalmente quelle numeriche, in quanto andiamo a vedere media, deviazione standard e minimo e massimo. Lo faccio sia per stroke = 0, sia per stroke = 1."
   ],
   "metadata": {
    "collapsed": false,
    "pycharm": {
     "name": "#%% md\n"
    }
   }
  },
  {
   "cell_type": "code",
   "execution_count": 7,
   "outputs": [
    {
     "name": "stdout",
     "output_type": "stream",
     "text": [
      "+-------+------------------+------------------+------------------+\n",
      "|summary|               age| avg_glucose_level|               bmi|\n",
      "+-------+------------------+------------------+------------------+\n",
      "|  count|              4861|              4861|              4861|\n",
      "|   mean|41.971544949598865|104.79551326887444|28.823063829787245|\n",
      "| stddev| 22.29194038460048| 43.84606850027663|  7.90828707392947|\n",
      "|    min|              0.08|             55.12|              10.3|\n",
      "|    max|              82.0|            267.76|               N/A|\n",
      "+-------+------------------+------------------+------------------+\n",
      "\n"
     ]
    }
   ],
   "source": [
    "df.filter(df['stroke'] == '0').describe(['age', 'avg_glucose_level', 'bmi']).show()"
   ],
   "metadata": {
    "collapsed": false,
    "pycharm": {
     "name": "#%%\n"
    }
   }
  },
  {
   "cell_type": "code",
   "execution_count": 8,
   "outputs": [
    {
     "name": "stdout",
     "output_type": "stream",
     "text": [
      "+-------+------------------+------------------+-----------------+\n",
      "|summary|               age| avg_glucose_level|              bmi|\n",
      "+-------+------------------+------------------+-----------------+\n",
      "|  count|               249|               249|              249|\n",
      "|   mean| 67.72819277108434|132.54473895582322|30.47129186602871|\n",
      "| stddev|12.727419360404237|  61.9210555806822|6.329451820046447|\n",
      "|    min|              1.32|             56.11|             16.9|\n",
      "|    max|              82.0|            271.74|              N/A|\n",
      "+-------+------------------+------------------+-----------------+\n",
      "\n"
     ]
    }
   ],
   "source": [
    "df.filter(df['stroke'] == '1').describe(['age', 'avg_glucose_level', 'bmi']).show()"
   ],
   "metadata": {
    "collapsed": false,
    "pycharm": {
     "name": "#%%\n"
    }
   }
  },
  {
   "cell_type": "markdown",
   "source": [
    "#### Noto subito che la colonna 'bmi' ha dei valori NA, che andrò a gestire successivamente"
   ],
   "metadata": {
    "collapsed": false,
    "pycharm": {
     "name": "#%% md\n"
    }
   }
  },
  {
   "cell_type": "markdown",
   "source": [
    "#### Proseguo con ulteriori esplorazioni del dataset"
   ],
   "metadata": {
    "collapsed": false,
    "pycharm": {
     "name": "#%% md\n"
    }
   }
  },
  {
   "cell_type": "markdown",
   "source": [
    "##### Persone di genere femminile che hanno avuto un infarto"
   ],
   "metadata": {
    "collapsed": false,
    "pycharm": {
     "name": "#%% md\n"
    }
   }
  },
  {
   "cell_type": "code",
   "execution_count": 9,
   "outputs": [
    {
     "name": "stdout",
     "output_type": "stream",
     "text": [
      "+-----+------+----+------------+-------------+------------+-------------+--------------+-----------------+----+--------------+------+\n",
      "|id   |gender|age |hypertension|heart_disease|ever_married|work_type    |Residence_type|avg_glucose_level|bmi |smoking_status|stroke|\n",
      "+-----+------+----+------------+-------------+------------+-------------+--------------+-----------------+----+--------------+------+\n",
      "|51676|Female|61.0|0           |0            |Yes         |Self-employed|Rural         |202.21           |N/A |never smoked  |1     |\n",
      "|60182|Female|49.0|0           |0            |Yes         |Private      |Urban         |171.23           |34.4|smokes        |1     |\n",
      "|1665 |Female|79.0|1           |0            |Yes         |Self-employed|Rural         |174.12           |24  |never smoked  |1     |\n",
      "|10434|Female|69.0|0           |0            |No          |Private      |Urban         |94.39            |22.8|never smoked  |1     |\n",
      "|27419|Female|59.0|0           |0            |Yes         |Private      |Rural         |76.15            |N/A |Unknown       |1     |\n",
      "|60491|Female|78.0|0           |0            |Yes         |Private      |Urban         |58.57            |24.2|Unknown       |1     |\n",
      "|12109|Female|81.0|1           |0            |Yes         |Private      |Rural         |80.43            |29.7|never smoked  |1     |\n",
      "|12095|Female|61.0|0           |1            |Yes         |Govt_job     |Rural         |120.46           |36.8|smokes        |1     |\n",
      "|12175|Female|54.0|0           |0            |Yes         |Private      |Urban         |104.51           |27.3|smokes        |1     |\n",
      "|5317 |Female|79.0|0           |1            |Yes         |Private      |Urban         |214.09           |28.2|never smoked  |1     |\n",
      "+-----+------+----+------------+-------------+------------+-------------+--------------+-----------------+----+--------------+------+\n",
      "only showing top 10 rows\n",
      "\n"
     ]
    }
   ],
   "source": [
    "df.filter(df.gender == \"Female\").where(df.stroke == '1').show(10, truncate=False)"
   ],
   "metadata": {
    "collapsed": false,
    "pycharm": {
     "name": "#%%\n"
    }
   }
  },
  {
   "cell_type": "markdown",
   "source": [
    "##### Dato che è la variabile di risposta (target), vedo quale è la quantità di persone che hanno avuto l'ictus e quante no"
   ],
   "metadata": {
    "collapsed": false,
    "pycharm": {
     "name": "#%% md\n"
    }
   }
  },
  {
   "cell_type": "code",
   "execution_count": 10,
   "outputs": [
    {
     "name": "stdout",
     "output_type": "stream",
     "text": [
      "+------+-----+\n",
      "|stroke|count|\n",
      "+------+-----+\n",
      "|     1|  249|\n",
      "|     0| 4861|\n",
      "+------+-----+\n",
      "\n"
     ]
    }
   ],
   "source": [
    "df.groupby(\"stroke\").count().show()"
   ],
   "metadata": {
    "collapsed": false,
    "pycharm": {
     "name": "#%%\n"
    }
   }
  },
  {
   "cell_type": "markdown",
   "source": [
    "#### Ci sono 249 persone che hanno avuto un ictus e 4861 che non lo hanno avuto"
   ],
   "metadata": {
    "collapsed": false,
    "pycharm": {
     "name": "#%% md\n"
    }
   }
  },
  {
   "cell_type": "markdown",
   "source": [
    "## DATA CLEANING"
   ],
   "metadata": {
    "collapsed": false,
    "pycharm": {
     "name": "#%% md\n"
    }
   }
  },
  {
   "cell_type": "markdown",
   "source": [
    "### NA, Nan e NULL"
   ],
   "metadata": {
    "collapsed": false,
    "pycharm": {
     "name": "#%% md\n"
    }
   }
  },
  {
   "cell_type": "markdown",
   "source": [
    "#### Elimino la colonna 'id' perché non è utile ai fini dell'analisi e poi rimando a grafico"
   ],
   "metadata": {
    "collapsed": false,
    "pycharm": {
     "name": "#%% md\n"
    }
   }
  },
  {
   "cell_type": "code",
   "execution_count": 11,
   "outputs": [
    {
     "name": "stdout",
     "output_type": "stream",
     "text": [
      "+------+----+------------+-------------+------------+-------------+--------------+-----------------+----+---------------+------+\n",
      "|gender|age |hypertension|heart_disease|ever_married|work_type    |Residence_type|avg_glucose_level|bmi |smoking_status |stroke|\n",
      "+------+----+------------+-------------+------------+-------------+--------------+-----------------+----+---------------+------+\n",
      "|Male  |67.0|0           |1            |Yes         |Private      |Urban         |228.69           |36.6|formerly smoked|1     |\n",
      "|Female|61.0|0           |0            |Yes         |Self-employed|Rural         |202.21           |N/A |never smoked   |1     |\n",
      "|Male  |80.0|0           |1            |Yes         |Private      |Rural         |105.92           |32.5|never smoked   |1     |\n",
      "|Female|49.0|0           |0            |Yes         |Private      |Urban         |171.23           |34.4|smokes         |1     |\n",
      "|Female|79.0|1           |0            |Yes         |Self-employed|Rural         |174.12           |24  |never smoked   |1     |\n",
      "|Male  |81.0|0           |0            |Yes         |Private      |Urban         |186.21           |29  |formerly smoked|1     |\n",
      "|Male  |74.0|1           |1            |Yes         |Private      |Rural         |70.09            |27.4|never smoked   |1     |\n",
      "|Female|69.0|0           |0            |No          |Private      |Urban         |94.39            |22.8|never smoked   |1     |\n",
      "|Female|59.0|0           |0            |Yes         |Private      |Rural         |76.15            |N/A |Unknown        |1     |\n",
      "|Female|78.0|0           |0            |Yes         |Private      |Urban         |58.57            |24.2|Unknown        |1     |\n",
      "|Female|81.0|1           |0            |Yes         |Private      |Rural         |80.43            |29.7|never smoked   |1     |\n",
      "|Female|61.0|0           |1            |Yes         |Govt_job     |Rural         |120.46           |36.8|smokes         |1     |\n",
      "|Female|54.0|0           |0            |Yes         |Private      |Urban         |104.51           |27.3|smokes         |1     |\n",
      "|Male  |78.0|0           |1            |Yes         |Private      |Urban         |219.84           |N/A |Unknown        |1     |\n",
      "|Female|79.0|0           |1            |Yes         |Private      |Urban         |214.09           |28.2|never smoked   |1     |\n",
      "|Female|50.0|1           |0            |Yes         |Self-employed|Rural         |167.41           |30.9|never smoked   |1     |\n",
      "|Male  |64.0|0           |1            |Yes         |Private      |Urban         |191.61           |37.5|smokes         |1     |\n",
      "|Male  |75.0|1           |0            |Yes         |Private      |Urban         |221.29           |25.8|smokes         |1     |\n",
      "|Female|60.0|0           |0            |No          |Private      |Urban         |89.22            |37.8|never smoked   |1     |\n",
      "|Male  |57.0|0           |1            |No          |Govt_job     |Urban         |217.08           |N/A |Unknown        |1     |\n",
      "+------+----+------------+-------------+------------+-------------+--------------+-----------------+----+---------------+------+\n",
      "only showing top 20 rows\n",
      "\n"
     ]
    }
   ],
   "source": [
    "new_df = df.drop('id')\n",
    "new_df.show(truncate=False)"
   ],
   "metadata": {
    "collapsed": false,
    "pycharm": {
     "name": "#%%\n"
    }
   }
  },
  {
   "cell_type": "markdown",
   "source": [
    "#### Faccio un check per controllare che non ci siano valori nulli, nan o na"
   ],
   "metadata": {
    "collapsed": false,
    "pycharm": {
     "name": "#%% md\n"
    }
   }
  },
  {
   "cell_type": "code",
   "execution_count": 12,
   "outputs": [
    {
     "name": "stdout",
     "output_type": "stream",
     "text": [
      "+------+---+------------+-------------+------------+---------+--------------+-----------------+---+--------------+------+\n",
      "|gender|age|hypertension|heart_disease|ever_married|work_type|Residence_type|avg_glucose_level|bmi|smoking_status|stroke|\n",
      "+------+---+------------+-------------+------------+---------+--------------+-----------------+---+--------------+------+\n",
      "|     0|  0|           0|            0|           0|        0|             0|                0|  0|             0|     0|\n",
      "+------+---+------------+-------------+------------+---------+--------------+-----------------+---+--------------+------+\n",
      "\n"
     ]
    }
   ],
   "source": [
    "new_df.select([count(when(isnan(c) | col(c).isNull(), c)).alias(c) for c in new_df.columns]).show()"
   ],
   "metadata": {
    "collapsed": false,
    "pycharm": {
     "name": "#%%\n"
    }
   }
  },
  {
   "cell_type": "markdown",
   "source": [
    "#### Facendo un piccolo controllo visivo noto che in realtà ci sono alcuni NA che non vengono individuate:"
   ],
   "metadata": {
    "collapsed": false,
    "pycharm": {
     "name": "#%% md\n"
    }
   }
  },
  {
   "cell_type": "code",
   "execution_count": 13,
   "outputs": [
    {
     "data": {
      "text/plain": "      gender   age  hypertension  heart_disease ever_married      work_type  \\\n0       Male  67.0             0              1          Yes        Private   \n1     Female  61.0             0              0          Yes  Self-employed   \n2       Male  80.0             0              1          Yes        Private   \n3     Female  49.0             0              0          Yes        Private   \n4     Female  79.0             1              0          Yes  Self-employed   \n...      ...   ...           ...            ...          ...            ...   \n5105  Female  80.0             1              0          Yes        Private   \n5106  Female  81.0             0              0          Yes  Self-employed   \n5107  Female  35.0             0              0          Yes  Self-employed   \n5108    Male  51.0             0              0          Yes        Private   \n5109  Female  44.0             0              0          Yes       Govt_job   \n\n     Residence_type  avg_glucose_level   bmi   smoking_status  stroke  \n0             Urban             228.69  36.6  formerly smoked       1  \n1             Rural             202.21   N/A     never smoked       1  \n2             Rural             105.92  32.5     never smoked       1  \n3             Urban             171.23  34.4           smokes       1  \n4             Rural             174.12    24     never smoked       1  \n...             ...                ...   ...              ...     ...  \n5105          Urban              83.75   N/A     never smoked       0  \n5106          Urban             125.20    40     never smoked       0  \n5107          Rural              82.99  30.6     never smoked       0  \n5108          Rural             166.29  25.6  formerly smoked       0  \n5109          Urban              85.28  26.2          Unknown       0  \n\n[5110 rows x 11 columns]",
      "text/html": "<div>\n<style scoped>\n    .dataframe tbody tr th:only-of-type {\n        vertical-align: middle;\n    }\n\n    .dataframe tbody tr th {\n        vertical-align: top;\n    }\n\n    .dataframe thead th {\n        text-align: right;\n    }\n</style>\n<table border=\"1\" class=\"dataframe\">\n  <thead>\n    <tr style=\"text-align: right;\">\n      <th></th>\n      <th>gender</th>\n      <th>age</th>\n      <th>hypertension</th>\n      <th>heart_disease</th>\n      <th>ever_married</th>\n      <th>work_type</th>\n      <th>Residence_type</th>\n      <th>avg_glucose_level</th>\n      <th>bmi</th>\n      <th>smoking_status</th>\n      <th>stroke</th>\n    </tr>\n  </thead>\n  <tbody>\n    <tr>\n      <th>0</th>\n      <td>Male</td>\n      <td>67.0</td>\n      <td>0</td>\n      <td>1</td>\n      <td>Yes</td>\n      <td>Private</td>\n      <td>Urban</td>\n      <td>228.69</td>\n      <td>36.6</td>\n      <td>formerly smoked</td>\n      <td>1</td>\n    </tr>\n    <tr>\n      <th>1</th>\n      <td>Female</td>\n      <td>61.0</td>\n      <td>0</td>\n      <td>0</td>\n      <td>Yes</td>\n      <td>Self-employed</td>\n      <td>Rural</td>\n      <td>202.21</td>\n      <td>N/A</td>\n      <td>never smoked</td>\n      <td>1</td>\n    </tr>\n    <tr>\n      <th>2</th>\n      <td>Male</td>\n      <td>80.0</td>\n      <td>0</td>\n      <td>1</td>\n      <td>Yes</td>\n      <td>Private</td>\n      <td>Rural</td>\n      <td>105.92</td>\n      <td>32.5</td>\n      <td>never smoked</td>\n      <td>1</td>\n    </tr>\n    <tr>\n      <th>3</th>\n      <td>Female</td>\n      <td>49.0</td>\n      <td>0</td>\n      <td>0</td>\n      <td>Yes</td>\n      <td>Private</td>\n      <td>Urban</td>\n      <td>171.23</td>\n      <td>34.4</td>\n      <td>smokes</td>\n      <td>1</td>\n    </tr>\n    <tr>\n      <th>4</th>\n      <td>Female</td>\n      <td>79.0</td>\n      <td>1</td>\n      <td>0</td>\n      <td>Yes</td>\n      <td>Self-employed</td>\n      <td>Rural</td>\n      <td>174.12</td>\n      <td>24</td>\n      <td>never smoked</td>\n      <td>1</td>\n    </tr>\n    <tr>\n      <th>...</th>\n      <td>...</td>\n      <td>...</td>\n      <td>...</td>\n      <td>...</td>\n      <td>...</td>\n      <td>...</td>\n      <td>...</td>\n      <td>...</td>\n      <td>...</td>\n      <td>...</td>\n      <td>...</td>\n    </tr>\n    <tr>\n      <th>5105</th>\n      <td>Female</td>\n      <td>80.0</td>\n      <td>1</td>\n      <td>0</td>\n      <td>Yes</td>\n      <td>Private</td>\n      <td>Urban</td>\n      <td>83.75</td>\n      <td>N/A</td>\n      <td>never smoked</td>\n      <td>0</td>\n    </tr>\n    <tr>\n      <th>5106</th>\n      <td>Female</td>\n      <td>81.0</td>\n      <td>0</td>\n      <td>0</td>\n      <td>Yes</td>\n      <td>Self-employed</td>\n      <td>Urban</td>\n      <td>125.20</td>\n      <td>40</td>\n      <td>never smoked</td>\n      <td>0</td>\n    </tr>\n    <tr>\n      <th>5107</th>\n      <td>Female</td>\n      <td>35.0</td>\n      <td>0</td>\n      <td>0</td>\n      <td>Yes</td>\n      <td>Self-employed</td>\n      <td>Rural</td>\n      <td>82.99</td>\n      <td>30.6</td>\n      <td>never smoked</td>\n      <td>0</td>\n    </tr>\n    <tr>\n      <th>5108</th>\n      <td>Male</td>\n      <td>51.0</td>\n      <td>0</td>\n      <td>0</td>\n      <td>Yes</td>\n      <td>Private</td>\n      <td>Rural</td>\n      <td>166.29</td>\n      <td>25.6</td>\n      <td>formerly smoked</td>\n      <td>0</td>\n    </tr>\n    <tr>\n      <th>5109</th>\n      <td>Female</td>\n      <td>44.0</td>\n      <td>0</td>\n      <td>0</td>\n      <td>Yes</td>\n      <td>Govt_job</td>\n      <td>Urban</td>\n      <td>85.28</td>\n      <td>26.2</td>\n      <td>Unknown</td>\n      <td>0</td>\n    </tr>\n  </tbody>\n</table>\n<p>5110 rows × 11 columns</p>\n</div>"
     },
     "execution_count": 13,
     "metadata": {},
     "output_type": "execute_result"
    }
   ],
   "source": [
    "new_df_pd = new_df.toPandas()\n",
    "new_df_pd"
   ],
   "metadata": {
    "collapsed": false,
    "pycharm": {
     "name": "#%%\n"
    }
   }
  },
  {
   "cell_type": "markdown",
   "source": [],
   "metadata": {
    "collapsed": false,
    "pycharm": {
     "name": "#%% md\n"
    }
   }
  },
  {
   "cell_type": "markdown",
   "source": [
    "#### A questo punto controllo il tipo di variabile per ogni colonna"
   ],
   "metadata": {
    "collapsed": false,
    "pycharm": {
     "name": "#%% md\n"
    }
   }
  },
  {
   "cell_type": "code",
   "execution_count": 14,
   "outputs": [
    {
     "name": "stdout",
     "output_type": "stream",
     "text": [
      "root\n",
      " |-- gender: string (nullable = true)\n",
      " |-- age: double (nullable = true)\n",
      " |-- hypertension: integer (nullable = true)\n",
      " |-- heart_disease: integer (nullable = true)\n",
      " |-- ever_married: string (nullable = true)\n",
      " |-- work_type: string (nullable = true)\n",
      " |-- Residence_type: string (nullable = true)\n",
      " |-- avg_glucose_level: double (nullable = true)\n",
      " |-- bmi: string (nullable = true)\n",
      " |-- smoking_status: string (nullable = true)\n",
      " |-- stroke: integer (nullable = true)\n",
      "\n"
     ]
    }
   ],
   "source": [
    "new_df.printSchema()"
   ],
   "metadata": {
    "collapsed": false,
    "pycharm": {
     "name": "#%%\n"
    }
   }
  },
  {
   "cell_type": "markdown",
   "source": [
    "#### Dato che la colonna bmi è una stringa, ipotizzo che anche i miei NA siano gestiti come stringhe, dunque non li riesce ad indivituare. Provo a fare un tentativo con Pandas"
   ],
   "metadata": {
    "collapsed": false,
    "pycharm": {
     "name": "#%% md\n"
    }
   }
  },
  {
   "cell_type": "code",
   "execution_count": 15,
   "outputs": [
    {
     "data": {
      "text/plain": "gender               0\nage                  0\nhypertension         0\nheart_disease        0\never_married         0\nwork_type            0\nResidence_type       0\navg_glucose_level    0\nbmi                  0\nsmoking_status       0\nstroke               0\ndtype: int64"
     },
     "execution_count": 15,
     "metadata": {},
     "output_type": "execute_result"
    }
   ],
   "source": [
    "new_df_pd = new_df.toPandas()  #Provo a passare a Pandas per ricercare gli NA\n",
    "new_df_pd.isna().sum()"
   ],
   "metadata": {
    "collapsed": false,
    "pycharm": {
     "name": "#%%\n"
    }
   }
  },
  {
   "cell_type": "markdown",
   "source": [
    "#### Anche Pandas non li riconosce."
   ],
   "metadata": {
    "collapsed": false,
    "pycharm": {
     "name": "#%% md\n"
    }
   }
  },
  {
   "cell_type": "markdown",
   "source": [
    "#### A questo punto li tratto come stringhe e controllo su quali colonne siano sempre attraverso una list comprehention."
   ],
   "metadata": {
    "collapsed": false,
    "pycharm": {
     "name": "#%% md\n"
    }
   }
  },
  {
   "cell_type": "code",
   "execution_count": 16,
   "outputs": [
    {
     "name": "stdout",
     "output_type": "stream",
     "text": [
      "+------+---+------------+-------------+------------+---------+--------------+-----------------+---+--------------+------+\n",
      "|gender|age|hypertension|heart_disease|ever_married|work_type|Residence_type|avg_glucose_level|bmi|smoking_status|stroke|\n",
      "+------+---+------------+-------------+------------+---------+--------------+-----------------+---+--------------+------+\n",
      "|     0|  0|           0|            0|           0|        0|             0|                0|201|             0|     0|\n",
      "+------+---+------------+-------------+------------+---------+--------------+-----------------+---+--------------+------+\n",
      "\n"
     ]
    }
   ],
   "source": [
    "new_df2 = new_df.select([count(when(col(c).contains('None') |\n",
    "                                    col(c).contains('NULL') |\n",
    "                                    col(c).contains('N/A') |\n",
    "                                    (col(c) == ''), c)).alias(c)\n",
    "                                    for c in new_df.columns])\n",
    "new_df2.show()"
   ],
   "metadata": {
    "collapsed": false,
    "pycharm": {
     "name": "#%%\n"
    }
   }
  },
  {
   "cell_type": "markdown",
   "source": [
    "#### Avendo visto che solo sulla colonna 'bmi' sono presenti 201 valori sbagliati e avendo visto dallo show del dataset che sono presenti stringhe di questo tipo ('N/A'), provo a controllare se sono solo quelle."
   ],
   "metadata": {
    "collapsed": false,
    "pycharm": {
     "name": "#%% md\n"
    }
   }
  },
  {
   "cell_type": "code",
   "execution_count": 17,
   "outputs": [
    {
     "data": {
      "text/plain": "201"
     },
     "execution_count": 17,
     "metadata": {},
     "output_type": "execute_result"
    }
   ],
   "source": [
    "new_df.where(new_df.bmi == 'N/A').count()"
   ],
   "metadata": {
    "collapsed": false,
    "pycharm": {
     "name": "#%%\n"
    }
   }
  },
  {
   "cell_type": "markdown",
   "source": [
    "#### Sono 201, quindi non ce ne sono di altri tipi. Elimino dunque le righe in cui la colonna bmi ha gli NA e poi ricontrollo che siano 0 :"
   ],
   "metadata": {
    "collapsed": false,
    "pycharm": {
     "name": "#%% md\n"
    }
   }
  },
  {
   "cell_type": "code",
   "execution_count": 18,
   "outputs": [
    {
     "data": {
      "text/plain": "0"
     },
     "execution_count": 18,
     "metadata": {},
     "output_type": "execute_result"
    }
   ],
   "source": [
    "clean_df = new_df.filter(new_df.bmi != 'N/A')\n",
    "clean_df.where(clean_df.bmi == 'N/A').count()"
   ],
   "metadata": {
    "collapsed": false,
    "pycharm": {
     "name": "#%%\n"
    }
   }
  },
  {
   "cell_type": "markdown",
   "source": [
    "\n",
    "## Casting variabili\n"
   ],
   "metadata": {
    "collapsed": false,
    "pycharm": {
     "name": "#%% md\n"
    }
   }
  },
  {
   "cell_type": "markdown",
   "source": [
    "#### Check del tipo di variabile"
   ],
   "metadata": {
    "collapsed": false,
    "pycharm": {
     "name": "#%% md\n"
    }
   }
  },
  {
   "cell_type": "code",
   "execution_count": 19,
   "outputs": [
    {
     "name": "stdout",
     "output_type": "stream",
     "text": [
      "root\n",
      " |-- gender: string (nullable = true)\n",
      " |-- age: double (nullable = true)\n",
      " |-- hypertension: integer (nullable = true)\n",
      " |-- heart_disease: integer (nullable = true)\n",
      " |-- ever_married: string (nullable = true)\n",
      " |-- work_type: string (nullable = true)\n",
      " |-- Residence_type: string (nullable = true)\n",
      " |-- avg_glucose_level: double (nullable = true)\n",
      " |-- bmi: string (nullable = true)\n",
      " |-- smoking_status: string (nullable = true)\n",
      " |-- stroke: integer (nullable = true)\n",
      "\n"
     ]
    }
   ],
   "source": [
    "clean_df.printSchema()"
   ],
   "metadata": {
    "collapsed": false,
    "pycharm": {
     "name": "#%%\n"
    }
   }
  },
  {
   "cell_type": "markdown",
   "source": [
    "##### La variabile 'age' la trasformo da double a integer"
   ],
   "metadata": {
    "collapsed": false,
    "pycharm": {
     "name": "#%% md\n"
    }
   }
  },
  {
   "cell_type": "code",
   "execution_count": 20,
   "outputs": [],
   "source": [
    "clean_df_new = clean_df.withColumn(\"age\", clean_df[\"age\"].cast(\"integer\"))"
   ],
   "metadata": {
    "collapsed": false,
    "pycharm": {
     "name": "#%%\n"
    }
   }
  },
  {
   "cell_type": "markdown",
   "source": [
    "##### Trasformo la variabile 'bmi' da string a double"
   ],
   "metadata": {
    "collapsed": false,
    "pycharm": {
     "name": "#%% md\n"
    }
   }
  },
  {
   "cell_type": "code",
   "execution_count": 21,
   "outputs": [],
   "source": [
    "clean_df_new = clean_df_new.withColumn(\"bmi\", clean_df_new[\"bmi\"].cast(\"double\"))"
   ],
   "metadata": {
    "collapsed": false,
    "pycharm": {
     "name": "#%%\n"
    }
   }
  },
  {
   "cell_type": "markdown",
   "source": [
    "#### Ricontrollo le azioni eseguite"
   ],
   "metadata": {
    "collapsed": false,
    "pycharm": {
     "name": "#%% md\n"
    }
   }
  },
  {
   "cell_type": "code",
   "execution_count": 22,
   "outputs": [
    {
     "name": "stdout",
     "output_type": "stream",
     "text": [
      "root\n",
      " |-- gender: string (nullable = true)\n",
      " |-- age: integer (nullable = true)\n",
      " |-- hypertension: integer (nullable = true)\n",
      " |-- heart_disease: integer (nullable = true)\n",
      " |-- ever_married: string (nullable = true)\n",
      " |-- work_type: string (nullable = true)\n",
      " |-- Residence_type: string (nullable = true)\n",
      " |-- avg_glucose_level: double (nullable = true)\n",
      " |-- bmi: double (nullable = true)\n",
      " |-- smoking_status: string (nullable = true)\n",
      " |-- stroke: integer (nullable = true)\n",
      "\n"
     ]
    }
   ],
   "source": [
    "clean_df_new.printSchema()"
   ],
   "metadata": {
    "collapsed": false,
    "pycharm": {
     "name": "#%%\n"
    }
   }
  },
  {
   "cell_type": "markdown",
   "source": [
    "#### Elimino l'unica osservazione 'Other' nella variabile Gender in qunato è un'osservazione isolata"
   ],
   "metadata": {
    "collapsed": false,
    "pycharm": {
     "name": "#%% md\n"
    }
   }
  },
  {
   "cell_type": "code",
   "execution_count": 23,
   "outputs": [
    {
     "name": "stdout",
     "output_type": "stream",
     "text": [
      "+------+-----+\n",
      "|gender|count|\n",
      "+------+-----+\n",
      "|Female| 2897|\n",
      "| Other|    1|\n",
      "|  Male| 2011|\n",
      "+------+-----+\n",
      "\n"
     ]
    }
   ],
   "source": [
    "clean_df_new.groupBy('gender').count().show()"
   ],
   "metadata": {
    "collapsed": false,
    "pycharm": {
     "name": "#%%\n"
    }
   }
  },
  {
   "cell_type": "markdown",
   "source": [
    "#### Ricontrollo"
   ],
   "metadata": {
    "collapsed": false,
    "pycharm": {
     "name": "#%% md\n"
    }
   }
  },
  {
   "cell_type": "code",
   "execution_count": 24,
   "outputs": [
    {
     "name": "stdout",
     "output_type": "stream",
     "text": [
      "+------+-----+\n",
      "|gender|count|\n",
      "+------+-----+\n",
      "|Female| 2897|\n",
      "|  Male| 2011|\n",
      "+------+-----+\n",
      "\n"
     ]
    }
   ],
   "source": [
    "clean_df_new = clean_df_new.filter(clean_df_new.gender != 'Other')\n",
    "clean_df_new.groupBy('gender').count().show()"
   ],
   "metadata": {
    "collapsed": false,
    "pycharm": {
     "name": "#%%\n"
    }
   }
  },
  {
   "cell_type": "markdown",
   "source": [
    "## Grafici Esplorativi"
   ],
   "metadata": {
    "collapsed": false,
    "pycharm": {
     "name": "#%% md\n"
    }
   }
  },
  {
   "cell_type": "code",
   "execution_count": 25,
   "outputs": [],
   "source": [
    "clean_df_def_pd = clean_df_new.toPandas()"
   ],
   "metadata": {
    "collapsed": false,
    "pycharm": {
     "name": "#%%\n"
    }
   }
  },
  {
   "cell_type": "markdown",
   "source": [
    "### Gender e Stroke"
   ],
   "metadata": {
    "collapsed": false,
    "pycharm": {
     "name": "#%% md\n"
    }
   }
  },
  {
   "cell_type": "markdown",
   "source": [
    "#### Metto in relazione la variabile 'gender' con la variabile di risposta (target)"
   ],
   "metadata": {
    "collapsed": false,
    "pycharm": {
     "name": "#%% md\n"
    }
   }
  },
  {
   "cell_type": "markdown",
   "source": [
    "#### Diamo uno piccolo sguardo all distrubuzione di gender"
   ],
   "metadata": {
    "collapsed": false,
    "pycharm": {
     "name": "#%% md\n"
    }
   }
  },
  {
   "cell_type": "code",
   "execution_count": 26,
   "outputs": [
    {
     "data": {
      "text/plain": "<AxesSubplot:ylabel='gender'>"
     },
     "execution_count": 26,
     "metadata": {},
     "output_type": "execute_result"
    },
    {
     "data": {
      "text/plain": "<Figure size 432x288 with 1 Axes>",
      "image/png": "[encoded data removed]"
     },
     "metadata": {},
     "output_type": "display_data"
    }
   ],
   "source": [
    "Gender_dist = clean_df_def_pd['gender'].value_counts()\n",
    "\n",
    "Gender_dist.plot(kind='pie', shadow=False, autopct='%1.2f%%', pctdistance=1.5)"
   ],
   "metadata": {
    "collapsed": false,
    "pycharm": {
     "name": "#%%\n"
    }
   }
  },
  {
   "cell_type": "markdown",
   "source": [
    "##### Il 59% delle osservazioni sono donne mentre il 41% uomini"
   ],
   "metadata": {
    "collapsed": false,
    "pycharm": {
     "name": "#%% md\n"
    }
   }
  },
  {
   "cell_type": "markdown",
   "source": [
    "#### Vediamo se si modifica la distribuzione nel caso in cui l'ictus non si verifica"
   ],
   "metadata": {
    "collapsed": false,
    "pycharm": {
     "name": "#%% md\n"
    }
   }
  },
  {
   "cell_type": "code",
   "execution_count": 27,
   "outputs": [
    {
     "data": {
      "text/plain": "<AxesSubplot:ylabel='None'>"
     },
     "execution_count": 27,
     "metadata": {},
     "output_type": "execute_result"
    },
    {
     "data": {
      "text/plain": "<Figure size 432x288 with 1 Axes>",
      "image/png": "[encoded data removed]"
     },
     "metadata": {},
     "output_type": "display_data"
    }
   ],
   "source": [
    "Gender_stroke_No = clean_df_new.select(clean_df_new.gender).where(clean_df_new.stroke == '0')\n",
    "GSN_pd = Gender_stroke_No.toPandas()\n",
    "GSN_count = GSN_pd.value_counts()\n",
    "\n",
    "GSN_count.plot(kind='pie', shadow=False, autopct='%1.2f%%', pctdistance=1.5)"
   ],
   "metadata": {
    "collapsed": false,
    "pycharm": {
     "name": "#%%\n"
    }
   }
  },
  {
   "cell_type": "markdown",
   "source": [
    "##### Le proporzioni sono praticamente identiche alla situazione iniziale"
   ],
   "metadata": {
    "collapsed": false,
    "pycharm": {
     "name": "#%% md\n"
    }
   }
  },
  {
   "cell_type": "markdown",
   "source": [
    "#### Ora vediamo nel caso in cui si verifica l'ictus"
   ],
   "metadata": {
    "collapsed": false,
    "pycharm": {
     "name": "#%% md\n"
    }
   }
  },
  {
   "cell_type": "code",
   "execution_count": 28,
   "outputs": [
    {
     "data": {
      "text/plain": "<AxesSubplot:ylabel='None'>"
     },
     "execution_count": 28,
     "metadata": {},
     "output_type": "execute_result"
    },
    {
     "data": {
      "text/plain": "<Figure size 432x288 with 1 Axes>",
      "image/png": "[encoded data removed]"
     },
     "metadata": {},
     "output_type": "display_data"
    }
   ],
   "source": [
    "Gender_stroke_Yes = clean_df_new.select(clean_df_new.gender).where(clean_df_new.stroke == '1')\n",
    "GSY_pd = Gender_stroke_Yes.toPandas()\n",
    "GSY_count = GSY_pd.value_counts()\n",
    "\n",
    "GSY_count.plot(kind='pie', shadow=False, autopct='%1.2f%%', pctdistance=1.5)"
   ],
   "metadata": {
    "collapsed": false,
    "pycharm": {
     "name": "#%%\n"
    }
   }
  },
  {
   "cell_type": "markdown",
   "source": [
    "##### C'è un leggero aumento della percentuale di uomini\n",
    "#### Dunque possiamo dire che non c'è una gran distinzione per quanto riguarda il sesso, colpisce più o meno nello stesso modo."
   ],
   "metadata": {
    "collapsed": false,
    "pycharm": {
     "name": "#%% md\n"
    }
   }
  },
  {
   "cell_type": "markdown",
   "source": [
    "### Età e Stroke"
   ],
   "metadata": {
    "collapsed": false,
    "pycharm": {
     "name": "#%% md\n"
    }
   }
  },
  {
   "cell_type": "markdown",
   "source": [
    "#### Faccio un grafico per vedere il rapporto tra l'età e la variabile target"
   ],
   "metadata": {
    "collapsed": false,
    "pycharm": {
     "name": "#%% md\n"
    }
   }
  },
  {
   "cell_type": "code",
   "execution_count": 29,
   "outputs": [
    {
     "data": {
      "text/plain": "<Figure size 1440x720 with 2 Axes>",
      "image/png": "[encoded data removed]"
     },
     "metadata": {
      "needs_background": "light"
     },
     "output_type": "display_data"
    }
   ],
   "source": [
    "f, ax = plt.subplots(1, 2, figsize=(20, 10))\n",
    "\n",
    "clean_df_def_pd.loc[clean_df_def_pd['stroke'] == 0]['age'].plot.hist(ax=ax[0], bins=20, edgecolor='black',\n",
    "                                                                     color='skyblue')\n",
    "ax[0].set_title('stroke = 0')\n",
    "ax1 = list(range(0, 85, 5))\n",
    "ax[0].set_xticks(ax1)\n",
    "\n",
    "clean_df_def_pd[clean_df_def_pd['stroke'] == 1]['age'].plot.hist(ax=ax[1], color='red', bins=20, edgecolor='black')\n",
    "ax[1].set_title('stroke=1')\n",
    "x2 = list(range(0, 85, 5))\n",
    "ax[1].set_xticks(x2)\n",
    "plt.show();"
   ],
   "metadata": {
    "collapsed": false,
    "pycharm": {
     "name": "#%%\n"
    }
   }
  },
  {
   "cell_type": "markdown",
   "source": [
    "##### Si può notare come all'avanzare dell'età, sia più probabile che si venga colpiti da un ictus"
   ],
   "metadata": {
    "collapsed": false,
    "pycharm": {
     "name": "#%% md\n"
    }
   }
  },
  {
   "cell_type": "markdown",
   "source": [
    "#### La variabile Age la trasformo in un range di età"
   ],
   "metadata": {
    "collapsed": false,
    "pycharm": {
     "name": "#%% md\n"
    }
   }
  },
  {
   "cell_type": "code",
   "execution_count": 30,
   "outputs": [],
   "source": [
    "clean_df_new = clean_df_new.withColumn('age_step',\n",
    "                                       when(clean_df_new['age'] <= 30, 'young')\n",
    "                                       .when((clean_df_new['age'] > 30) & (clean_df_new['age'] <= 55), 'adult')\n",
    "                                       .otherwise('old')).drop('age')"
   ],
   "metadata": {
    "collapsed": false,
    "pycharm": {
     "name": "#%%\n"
    }
   }
  },
  {
   "cell_type": "code",
   "execution_count": 31,
   "outputs": [
    {
     "name": "stdout",
     "output_type": "stream",
     "text": [
      "+--------+\n",
      "|age_step|\n",
      "+--------+\n",
      "|     old|\n",
      "|     old|\n",
      "|   adult|\n",
      "|     old|\n",
      "|     old|\n",
      "+--------+\n",
      "only showing top 5 rows\n",
      "\n"
     ]
    }
   ],
   "source": [
    "clean_df_new.select(clean_df_new.age_step).show(5)"
   ],
   "metadata": {
    "collapsed": false,
    "pycharm": {
     "name": "#%%\n"
    }
   }
  },
  {
   "cell_type": "markdown",
   "source": [],
   "metadata": {
    "collapsed": false,
    "pycharm": {
     "name": "#%% md\n"
    }
   }
  },
  {
   "cell_type": "markdown",
   "source": [
    "    ### Average glucose level e Stroke"
   ],
   "metadata": {
    "collapsed": false,
    "pycharm": {
     "name": "#%% md\n"
    }
   }
  },
  {
   "cell_type": "markdown",
   "source": [
    "#### Faccio prima una piccola panormamica per vedere la distribuzione della variabile 'Average_glucose_level'"
   ],
   "metadata": {
    "collapsed": false,
    "pycharm": {
     "name": "#%% md\n"
    }
   }
  },
  {
   "cell_type": "code",
   "execution_count": 32,
   "outputs": [
    {
     "data": {
      "text/plain": "<Figure size 432x288 with 1 Axes>",
      "image/png": "[encoded data removed]"
     },
     "metadata": {
      "needs_background": "light"
     },
     "output_type": "display_data"
    }
   ],
   "source": [
    "sns.kdeplot('avg_glucose_level', data=clean_df_def_pd, shade=True)\n",
    "sns.set_style(\"white\")\n",
    "sns.despine()"
   ],
   "metadata": {
    "collapsed": false,
    "pycharm": {
     "name": "#%%\n"
    }
   }
  },
  {
   "cell_type": "markdown",
   "source": [
    "##### Vediamo che la media del livello di glucosio nel sangue è sui 90, poi c'è un ulteriore picco sui 210 che ipotizzo sia correlato alle osservazioni che hanno avuto l'ictus"
   ],
   "metadata": {
    "collapsed": false,
    "pycharm": {
     "name": "#%% md\n"
    }
   }
  },
  {
   "cell_type": "markdown",
   "source": [
    "#### Successivamente la rapporto alla variabile target stroke"
   ],
   "metadata": {
    "collapsed": false,
    "pycharm": {
     "name": "#%% md\n"
    }
   }
  },
  {
   "cell_type": "code",
   "execution_count": 33,
   "outputs": [
    {
     "data": {
      "text/plain": "<Figure size 1440x720 with 2 Axes>",
      "image/png": "[encoded data removed]"
     },
     "metadata": {},
     "output_type": "display_data"
    }
   ],
   "source": [
    "f, ax = plt.subplots(1, 2, figsize=(20, 10))\n",
    "\n",
    "clean_df_def_pd.loc[clean_df_def_pd['stroke'] == 0]['avg_glucose_level'].plot.hist(ax=ax[0], bins=20, edgecolor='black',\n",
    "                                                                                   color='skyblue')\n",
    "ax[0].set_title('stroke = 0')\n",
    "ax1 = list(range(30, 300, 10))\n",
    "ax[0].set_xticks(ax1)\n",
    "\n",
    "clean_df_def_pd.loc[clean_df_def_pd['stroke'] == 1]['avg_glucose_level'].plot.hist(ax=ax[1], color='red', bins=20,\n",
    "                                                                                   edgecolor='black')\n",
    "ax[1].set_title('stroke=1')\n",
    "x2 = list(range(30, 300, 10))\n",
    "ax[1].set_xticks(x2)\n",
    "plt.show()"
   ],
   "metadata": {
    "collapsed": false,
    "pycharm": {
     "name": "#%%\n"
    }
   }
  },
  {
   "cell_type": "markdown",
   "source": [
    "##### Dal grafico possiamo notare come aumentando il livello di glucosio aumenta anche la probabilità che possa arrivare l'ictus."
   ],
   "metadata": {
    "collapsed": false,
    "pycharm": {
     "name": "#%% md\n"
    }
   }
  },
  {
   "cell_type": "markdown",
   "source": [
    "#### Decido di trasformare il tipo di variabile da double a categorica ordinale (fonte: https://healthy.thewom.it/esami-e-analisi/glicemia-2/)"
   ],
   "metadata": {
    "collapsed": false,
    "pycharm": {
     "name": "#%% md\n"
    }
   }
  },
  {
   "cell_type": "code",
   "execution_count": 34,
   "outputs": [],
   "source": [
    "clean_df_new = clean_df_new.withColumn('avg_gl_ord',\n",
    "                                       when(clean_df_new['avg_glucose_level'] <= 69.9, 'ipoglicemia')\n",
    "                                       .when((clean_df_new['avg_glucose_level'] > 70.0) & (clean_df_new['avg_glucose_level'] <= 99.9), 'normal')\n",
    "                                       .when((clean_df_new['avg_glucose_level'] > 100.0) & (clean_df_new['avg_glucose_level'] <= 125.9), 'pre-diabetes')\n",
    "                                       .otherwise('diabetes')).drop('avg_glucose_level')"
   ],
   "metadata": {
    "collapsed": false,
    "pycharm": {
     "name": "#%%\n"
    }
   }
  },
  {
   "cell_type": "markdown",
   "source": [
    "### BMI e Stroke"
   ],
   "metadata": {
    "collapsed": false,
    "pycharm": {
     "name": "#%% md\n"
    }
   }
  },
  {
   "cell_type": "markdown",
   "source": [
    "#### Piccola panoramica della variabile BMI da sola"
   ],
   "metadata": {
    "collapsed": false,
    "pycharm": {
     "name": "#%% md\n"
    }
   }
  },
  {
   "cell_type": "code",
   "execution_count": 35,
   "outputs": [
    {
     "data": {
      "text/plain": "<Figure size 432x288 with 1 Axes>",
      "image/png": "[encoded data removed]"
     },
     "metadata": {},
     "output_type": "display_data"
    }
   ],
   "source": [
    "sns.kdeplot('bmi', data=clean_df_def_pd, shade=True)\n",
    "sns.set_style(\"white\")\n",
    "sns.despine()"
   ],
   "metadata": {
    "collapsed": false,
    "pycharm": {
     "name": "#%%\n"
    }
   }
  },
  {
   "cell_type": "markdown",
   "source": [
    "##### Il picco della distribuzione è 28"
   ],
   "metadata": {
    "collapsed": false,
    "pycharm": {
     "name": "#%% md\n"
    }
   }
  },
  {
   "cell_type": "code",
   "execution_count": 36,
   "outputs": [
    {
     "data": {
      "text/plain": "<Figure size 1440x720 with 2 Axes>",
      "image/png": "[encoded data removed]"
     },
     "metadata": {},
     "output_type": "display_data"
    }
   ],
   "source": [
    "f, ax = plt.subplots(1, 2, figsize=(20, 10))\n",
    "\n",
    "clean_df_def_pd.loc[clean_df_def_pd['stroke'] == 0]['bmi'].plot.hist(ax=ax[0], bins=20, edgecolor='black',\n",
    "                                                                     color='skyblue')\n",
    "ax[0].set_title('stroke = 0')\n",
    "ax1 = list(range(0, 70, 5))\n",
    "ax[0].set_xticks(ax1)\n",
    "\n",
    "clean_df_def_pd.loc[clean_df_def_pd['stroke'] == 1]['bmi'].plot.hist(ax=ax[1], color='red', bins=20, edgecolor='black')\n",
    "ax[1].set_title('stroke=1')\n",
    "x2 = list(range(0, 70, 5))\n",
    "ax[1].set_xticks(x2)\n",
    "plt.show()"
   ],
   "metadata": {
    "collapsed": false,
    "pycharm": {
     "name": "#%%\n"
    }
   }
  },
  {
   "cell_type": "markdown",
   "source": [
    "##### Notiamo che nel caso di ictus il bmi, ossia la percentuale di massa corporea, è più alto. Più alto è il bmi, più la persona si trova in uno stato di sovrappeso."
   ],
   "metadata": {
    "collapsed": false,
    "pycharm": {
     "name": "#%% md\n"
    }
   }
  },
  {
   "cell_type": "markdown",
   "source": [
    "#### Voglio trasformare la variabile bmi in una variabile ordinale (fonte: https://www.my-personaltrainer.it/calcolo-bmi.html):"
   ],
   "metadata": {
    "collapsed": false,
    "pycharm": {
     "name": "#%% md\n"
    }
   }
  },
  {
   "cell_type": "code",
   "execution_count": 37,
   "outputs": [],
   "source": [
    "clean_df_new = clean_df_new.withColumn('bmi_ord',\n",
    "                                       when(clean_df_new['bmi'] <= 16.5, 'severe_under_weight')\n",
    "                                       .when((clean_df_new['bmi'] > 16.6) & (clean_df_new['bmi'] <= 18.4),\n",
    "                                             'under_weight')\n",
    "                                       .when((clean_df_new['bmi'] > 18.5) & (clean_df_new['bmi'] <= 24.9), 'normal')\n",
    "                                       .when((clean_df_new['bmi'] > 25.0) & (clean_df_new['bmi'] <= 30.0), 'overweight')\n",
    "                                       .when((clean_df_new['bmi'] > 30.1) & (clean_df_new['bmi'] <= 34.9), 'FG_obesity')\n",
    "                                       .when((clean_df_new['bmi'] > 35.0) & (clean_df_new['bmi'] <= 40.0), 'SG_obesity')\n",
    "                                       .otherwise('TG_obesity')).drop('bmi')"
   ],
   "metadata": {
    "collapsed": false,
    "pycharm": {
     "name": "#%%\n"
    }
   }
  },
  {
   "cell_type": "markdown",
   "source": [
    "### Smoking_Status e Stroke"
   ],
   "metadata": {
    "collapsed": false,
    "pycharm": {
     "name": "#%% md\n"
    }
   }
  },
  {
   "cell_type": "markdown",
   "source": [
    "#### Metto a grafico anche la relazione tra la variabile 'smoking_status' e la target"
   ],
   "metadata": {
    "collapsed": false,
    "pycharm": {
     "name": "#%% md\n"
    }
   }
  },
  {
   "cell_type": "code",
   "execution_count": 38,
   "outputs": [
    {
     "data": {
      "text/plain": "<Figure size 1152x792 with 1 Axes>",
      "image/png": "[encoded data removed]"
     },
     "metadata": {},
     "output_type": "display_data"
    }
   ],
   "source": [
    "fig = plt.figure(figsize=(16, 11))\n",
    "gs = fig.add_gridspec(3, 4)\n",
    "sns.set_style(\"white\")\n",
    "sns.set_context(\"poster\", font_scale=0.5)\n",
    "\n",
    "ax_smoking_stroke = fig.add_subplot(gs[:2, 2:4])\n",
    "sns.countplot(x='stroke', hue='smoking_status', data=clean_df_def_pd, ax=ax_smoking_stroke, palette='coolwarm')\n",
    "sns.despine()"
   ],
   "metadata": {
    "collapsed": false,
    "pycharm": {
     "name": "#%%\n"
    }
   }
  },
  {
   "cell_type": "markdown",
   "source": [
    "####"
   ],
   "metadata": {
    "collapsed": false,
    "pycharm": {
     "name": "#%% md\n"
    }
   }
  },
  {
   "cell_type": "markdown",
   "source": [
    "## Indexing, Encoding and VectorAssembly using Pipeline"
   ],
   "metadata": {
    "collapsed": false,
    "pycharm": {
     "name": "#%% md\n"
    }
   }
  },
  {
   "cell_type": "markdown",
   "source": [
    "#### Do uno sguardo al tipo di variabili che ho nel mio dataset in modo da capire come andare a codificarle"
   ],
   "metadata": {
    "collapsed": false,
    "pycharm": {
     "name": "#%% md\n"
    }
   }
  },
  {
   "cell_type": "code",
   "execution_count": 39,
   "outputs": [
    {
     "name": "stdout",
     "output_type": "stream",
     "text": [
      "root\n",
      " |-- gender: string (nullable = true)\n",
      " |-- hypertension: integer (nullable = true)\n",
      " |-- heart_disease: integer (nullable = true)\n",
      " |-- ever_married: string (nullable = true)\n",
      " |-- work_type: string (nullable = true)\n",
      " |-- Residence_type: string (nullable = true)\n",
      " |-- smoking_status: string (nullable = true)\n",
      " |-- stroke: integer (nullable = true)\n",
      " |-- age_step: string (nullable = false)\n",
      " |-- avg_gl_ord: string (nullable = false)\n",
      " |-- bmi_ord: string (nullable = false)\n",
      "\n"
     ]
    }
   ],
   "source": [
    "clean_df_new.printSchema()"
   ],
   "metadata": {
    "collapsed": false,
    "pycharm": {
     "name": "#%%\n"
    }
   }
  },
  {
   "cell_type": "markdown",
   "source": [
    "#### Definisco inizialmente quali sono le mie variabili categoriche nominali e ordinali"
   ],
   "metadata": {
    "collapsed": false,
    "pycharm": {
     "name": "#%% md\n"
    }
   }
  },
  {
   "cell_type": "code",
   "execution_count": 40,
   "outputs": [],
   "source": [
    "NomCols = ['ever_married',\n",
    "           'gender',\n",
    "           'work_type',\n",
    "           'Residence_type',\n",
    "           'smoking_status']"
   ],
   "metadata": {
    "collapsed": false,
    "pycharm": {
     "name": "#%%\n"
    }
   }
  },
  {
   "cell_type": "code",
   "execution_count": 41,
   "outputs": [],
   "source": [
    "OrdCols = ['age_step',\n",
    "           'bmi_ord',\n",
    "           'avg_gl_ord']"
   ],
   "metadata": {
    "collapsed": false,
    "pycharm": {
     "name": "#%%\n"
    }
   }
  },
  {
   "cell_type": "markdown",
   "source": [
    "#### E successivamente vado ad indicizzarle attraverso una list comprehension, ciclando attraverso la lista precedentemente definita"
   ],
   "metadata": {
    "collapsed": false,
    "pycharm": {
     "name": "#%% md\n"
    }
   }
  },
  {
   "cell_type": "code",
   "execution_count": 42,
   "outputs": [],
   "source": [
    "one_indexer = [StringIndexer(inputCol=col, outputCol='index_' + col) for col in NomCols]\n"
   ],
   "metadata": {
    "collapsed": false,
    "pycharm": {
     "name": "#%%\n"
    }
   }
  },
  {
   "cell_type": "code",
   "execution_count": 43,
   "outputs": [],
   "source": [
    "indexer = [StringIndexer(inputCol=col, outputCol='ord_' + col) for col in OrdCols]"
   ],
   "metadata": {
    "collapsed": false,
    "pycharm": {
     "name": "#%%\n"
    }
   }
  },
  {
   "cell_type": "markdown",
   "source": [
    "#### Successivamente, sempre attraverso l'iterazione nella lista, vado a vettorizzare le variabili nominali precedentemente indicizzate"
   ],
   "metadata": {
    "collapsed": false,
    "pycharm": {
     "name": "#%% md\n"
    }
   }
  },
  {
   "cell_type": "code",
   "execution_count": 44,
   "outputs": [],
   "source": [
    "assembler = [VectorAssembler(inputCols=['index_' + col], outputCol=\"OHE_\" + col) for col in NomCols]"
   ],
   "metadata": {
    "collapsed": false,
    "pycharm": {
     "name": "#%%\n"
    }
   }
  },
  {
   "cell_type": "markdown",
   "source": [
    "#### E poi vado a decodificarle attraverso il OneHotEncoding"
   ],
   "metadata": {
    "collapsed": false,
    "pycharm": {
     "name": "#%% md\n"
    }
   }
  },
  {
   "cell_type": "code",
   "execution_count": 45,
   "outputs": [],
   "source": [
    "one_encoder = [OneHotEncoder(inputCol='index_' + col, outputCol='ind_vect_' + col) for col in NomCols]"
   ],
   "metadata": {
    "collapsed": false,
    "pycharm": {
     "name": "#%%\n"
    }
   }
  },
  {
   "cell_type": "markdown",
   "source": [
    "#### Infine vado ad utilizzare una Pipeline che mi permette di poter collegare i vari step"
   ],
   "metadata": {
    "collapsed": false,
    "pycharm": {
     "name": "#%% md\n"
    }
   }
  },
  {
   "cell_type": "code",
   "execution_count": 46,
   "outputs": [],
   "source": [
    "pipeline = Pipeline(stages=one_indexer + assembler + indexer + one_encoder)"
   ],
   "metadata": {
    "collapsed": false,
    "pycharm": {
     "name": "#%%\n"
    }
   }
  },
  {
   "cell_type": "markdown",
   "source": [
    "#### Vado poi ad adattarci il dataset"
   ],
   "metadata": {
    "collapsed": false,
    "pycharm": {
     "name": "#%% md\n"
    }
   }
  },
  {
   "cell_type": "code",
   "execution_count": 47,
   "outputs": [
    {
     "name": "stdout",
     "output_type": "stream",
     "text": [
      "+------+------------+-------------+------------+-------------+--------------+---------------+------+--------+------------+----------+------------------+------------+---------------+--------------------+--------------------+----------------+----------+-------------+------------------+------------------+------------+-----------+--------------+---------------------+---------------+------------------+-----------------------+-----------------------+\n",
      "|gender|hypertension|heart_disease|ever_married|    work_type|Residence_type| smoking_status|stroke|age_step|  avg_gl_ord|   bmi_ord|index_ever_married|index_gender|index_work_type|index_Residence_type|index_smoking_status|OHE_ever_married|OHE_gender|OHE_work_type|OHE_Residence_type|OHE_smoking_status|ord_age_step|ord_bmi_ord|ord_avg_gl_ord|ind_vect_ever_married|ind_vect_gender|ind_vect_work_type|ind_vect_Residence_type|ind_vect_smoking_status|\n",
      "+------+------------+-------------+------------+-------------+--------------+---------------+------+--------+------------+----------+------------------+------------+---------------+--------------------+--------------------+----------------+----------+-------------+------------------+------------------+------------+-----------+--------------+---------------------+---------------+------------------+-----------------------+-----------------------+\n",
      "|  Male|           0|            1|         Yes|      Private|         Urban|formerly smoked|     1|     old|    diabetes|SG_obesity|               0.0|         1.0|            0.0|                 0.0|                 2.0|           [0.0]|     [1.0]|        [0.0]|             [0.0]|             [2.0]|         1.0|        3.0|           2.0|        (1,[0],[1.0])|      (1,[],[])|     (4,[0],[1.0])|          (1,[0],[1.0])|          (3,[2],[1.0])|\n",
      "|  Male|           0|            1|         Yes|      Private|         Rural|   never smoked|     1|     old|pre-diabetes|FG_obesity|               0.0|         1.0|            0.0|                 1.0|                 0.0|           [0.0]|     [1.0]|        [0.0]|             [1.0]|             [0.0]|         1.0|        2.0|           1.0|        (1,[0],[1.0])|      (1,[],[])|     (4,[0],[1.0])|              (1,[],[])|          (3,[0],[1.0])|\n",
      "|Female|           0|            0|         Yes|      Private|         Urban|         smokes|     1|   adult|    diabetes|FG_obesity|               0.0|         0.0|            0.0|                 0.0|                 3.0|           [0.0]|     [0.0]|        [0.0]|             [0.0]|             [3.0]|         0.0|        2.0|           2.0|        (1,[0],[1.0])|  (1,[0],[1.0])|     (4,[0],[1.0])|          (1,[0],[1.0])|              (3,[],[])|\n",
      "|Female|           1|            0|         Yes|Self-employed|         Rural|   never smoked|     1|     old|    diabetes|    normal|               0.0|         0.0|            1.0|                 1.0|                 0.0|           [0.0]|     [0.0]|        [1.0]|             [1.0]|             [0.0]|         1.0|        1.0|           2.0|        (1,[0],[1.0])|  (1,[0],[1.0])|     (4,[1],[1.0])|              (1,[],[])|          (3,[0],[1.0])|\n",
      "|  Male|           0|            0|         Yes|      Private|         Urban|formerly smoked|     1|     old|    diabetes|overweight|               0.0|         1.0|            0.0|                 0.0|                 2.0|           [0.0]|     [1.0]|        [0.0]|             [0.0]|             [2.0]|         1.0|        0.0|           2.0|        (1,[0],[1.0])|      (1,[],[])|     (4,[0],[1.0])|          (1,[0],[1.0])|          (3,[2],[1.0])|\n",
      "+------+------------+-------------+------------+-------------+--------------+---------------+------+--------+------------+----------+------------------+------------+---------------+--------------------+--------------------+----------------+----------+-------------+------------------+------------------+------------+-----------+--------------+---------------------+---------------+------------------+-----------------------+-----------------------+\n",
      "only showing top 5 rows\n",
      "\n"
     ]
    }
   ],
   "source": [
    "final_dataframe = pipeline.fit(clean_df_new).transform(clean_df_new)\n",
    "final_dataframe.show(5)"
   ],
   "metadata": {
    "collapsed": false,
    "pycharm": {
     "name": "#%%\n"
    }
   }
  },
  {
   "cell_type": "markdown",
   "source": [
    "#### Utilizzo un ultimo assembler che prende in ingresso tutte le variabili decodificate e le trasforma in un'unica variabile 'features', che fungerà da X nella definizione dei modelli che utilizzeremo per andare a predire la Y"
   ],
   "metadata": {
    "collapsed": false,
    "pycharm": {
     "name": "#%% md\n"
    }
   }
  },
  {
   "cell_type": "code",
   "execution_count": 48,
   "outputs": [],
   "source": [
    "final_assembler = VectorAssembler(inputCols=['OHE_ever_married',\n",
    "                                             'OHE_gender',\n",
    "                                             'OHE_work_type',\n",
    "                                             'OHE_Residence_type',\n",
    "                                             'ord_age_step',\n",
    "                                             'ord_bmi_ord',\n",
    "                                             'ord_avg_gl_ord',\n",
    "                                             'hypertension',\n",
    "                                             'heart_disease'],\n",
    "                                  outputCol=\"features\")\n",
    "final_dataframe = final_assembler.transform(final_dataframe)"
   ],
   "metadata": {
    "collapsed": false,
    "pycharm": {
     "name": "#%%\n"
    }
   }
  },
  {
   "cell_type": "markdown",
   "source": [],
   "metadata": {
    "collapsed": false,
    "pycharm": {
     "name": "#%% md\n"
    }
   }
  },
  {
   "cell_type": "markdown",
   "source": [
    "## MODELLI"
   ],
   "metadata": {
    "collapsed": false,
    "pycharm": {
     "name": "#%% md\n"
    }
   }
  },
  {
   "cell_type": "markdown",
   "source": [
    "#### Definiamo un dataset con la Y e la X"
   ],
   "metadata": {
    "collapsed": false,
    "pycharm": {
     "name": "#%% md\n"
    }
   }
  },
  {
   "cell_type": "code",
   "execution_count": 49,
   "outputs": [],
   "source": [
    "model_data = final_dataframe.select(\"stroke\", \"features\")"
   ],
   "metadata": {
    "collapsed": false,
    "pycharm": {
     "name": "#%%\n"
    }
   }
  },
  {
   "cell_type": "markdown",
   "source": [
    "#### Andiamo a dividere il dataset in training set e test set"
   ],
   "metadata": {
    "collapsed": false,
    "pycharm": {
     "name": "#%% md\n"
    }
   }
  },
  {
   "cell_type": "code",
   "execution_count": 50,
   "outputs": [],
   "source": [
    "training_set, test_set = model_data.randomSplit(weights=[0.7, 0.3], seed=7)"
   ],
   "metadata": {
    "collapsed": false,
    "pycharm": {
     "name": "#%%\n"
    }
   }
  },
  {
   "cell_type": "markdown",
   "source": [
    "## Regressione Logistica"
   ],
   "metadata": {
    "collapsed": false,
    "pycharm": {
     "name": "#%% md\n"
    }
   }
  },
  {
   "cell_type": "markdown",
   "source": [
    "#### Utilizzo come primo modello una regressione logistica, andando ad utilizzare come predittore le features precedentemente definite e come variabile di risposta 'strokes'."
   ],
   "metadata": {
    "collapsed": false,
    "pycharm": {
     "name": "#%% md\n"
    }
   }
  },
  {
   "cell_type": "code",
   "execution_count": 51,
   "outputs": [],
   "source": [
    "lr = LogisticRegression(featuresCol = 'features', labelCol = 'stroke', maxIter=10)"
   ],
   "metadata": {
    "collapsed": false,
    "pycharm": {
     "name": "#%%\n"
    }
   }
  },
  {
   "cell_type": "markdown",
   "source": [
    "#### Addestro il modello sul training set"
   ],
   "metadata": {
    "collapsed": false,
    "pycharm": {
     "name": "#%% md\n"
    }
   }
  },
  {
   "cell_type": "code",
   "execution_count": 52,
   "outputs": [],
   "source": [
    "lrModel = lr.fit(training_set)"
   ],
   "metadata": {
    "collapsed": false,
    "pycharm": {
     "name": "#%%\n"
    }
   }
  },
  {
   "cell_type": "markdown",
   "source": [
    "#### Faccio un sommario del modello per poi mettere a grafico la curva ROC"
   ],
   "metadata": {
    "collapsed": false,
    "pycharm": {
     "name": "#%% md\n"
    }
   }
  },
  {
   "cell_type": "code",
   "execution_count": 53,
   "outputs": [
    {
     "name": "stderr",
     "output_type": "stream",
     "text": [
      "C:\\Users\\Michael\\Desktop\\Spark\\spark-3.2.1-bin-hadoop3.2\\python\\pyspark\\sql\\context.py:125: FutureWarning: Deprecated in 3.0.0. Use SparkSession.builder.getOrCreate() instead.\n",
      "  warnings.warn(\n"
     ]
    }
   ],
   "source": [
    "trainingSummary = lrModel.summary\n",
    "roc = trainingSummary.roc.toPandas() #lo converto a Pandas per fare il grafico"
   ],
   "metadata": {
    "collapsed": false,
    "pycharm": {
     "name": "#%%\n"
    }
   }
  },
  {
   "cell_type": "code",
   "execution_count": 54,
   "outputs": [
    {
     "data": {
      "text/plain": "<Figure size 432x288 with 1 Axes>",
      "image/png": "[encoded data removed]"
     },
     "metadata": {},
     "output_type": "display_data"
    }
   ],
   "source": [
    "plt.plot(roc['FPR'],roc['TPR'])\n",
    "plt.ylabel('False Positive Rate')\n",
    "plt.xlabel('True Positive Rate')\n",
    "plt.title('ROC Curve')\n",
    "plt.show()"
   ],
   "metadata": {
    "collapsed": false,
    "pycharm": {
     "name": "#%%\n"
    }
   }
  },
  {
   "cell_type": "markdown",
   "source": [
    "#### La curva ROC rappresenta il rapporto tra i Veri positivi e i Falsi Positivi. Dunque l'area sotto la curva, anche definita AUC, ci indica quanto è accurato il test"
   ],
   "metadata": {
    "collapsed": false,
    "pycharm": {
     "name": "#%% md\n"
    }
   }
  },
  {
   "cell_type": "code",
   "execution_count": 55,
   "outputs": [
    {
     "name": "stdout",
     "output_type": "stream",
     "text": [
      "Training set AUC: 0.7552437451223898\n"
     ]
    }
   ],
   "source": [
    "print('Training set AUC: ' + str(trainingSummary.areaUnderROC))"
   ],
   "metadata": {
    "collapsed": false,
    "pycharm": {
     "name": "#%%\n"
    }
   }
  },
  {
   "cell_type": "markdown",
   "source": [
    "#### Successivamente andiamo a fare predizione sul test set"
   ],
   "metadata": {
    "collapsed": false,
    "pycharm": {
     "name": "#%% md\n"
    }
   }
  },
  {
   "cell_type": "code",
   "execution_count": 56,
   "outputs": [
    {
     "name": "stdout",
     "output_type": "stream",
     "text": [
      "+------+---------+--------------------+--------------------+----------+\n",
      "|stroke| features|       rawPrediction|         probability|prediction|\n",
      "+------+---------+--------------------+--------------------+----------+\n",
      "|     0|(9,[],[])|[3.20677710078942...|[0.96108851650132...|       0.0|\n",
      "|     0|(9,[],[])|[3.20677710078942...|[0.96108851650132...|       0.0|\n",
      "|     0|(9,[],[])|[3.20677710078942...|[0.96108851650132...|       0.0|\n",
      "|     0|(9,[],[])|[3.20677710078942...|[0.96108851650132...|       0.0|\n",
      "|     0|(9,[],[])|[3.20677710078942...|[0.96108851650132...|       0.0|\n",
      "+------+---------+--------------------+--------------------+----------+\n",
      "only showing top 5 rows\n",
      "\n"
     ]
    }
   ],
   "source": [
    "predictions_lr = lrModel.transform(test_set)\n",
    "predictions_lr.show(5)"
   ],
   "metadata": {
    "collapsed": false,
    "pycharm": {
     "name": "#%%\n"
    }
   }
  },
  {
   "cell_type": "markdown",
   "source": [
    "#### E infine andiamo a valutare le prestazioni del modello:"
   ],
   "metadata": {
    "collapsed": false,
    "pycharm": {
     "name": "#%% md\n"
    }
   }
  },
  {
   "cell_type": "code",
   "execution_count": 57,
   "outputs": [
    {
     "name": "stdout",
     "output_type": "stream",
     "text": [
      "Test set AUC 0.7444748655715037\n"
     ]
    }
   ],
   "source": [
    "evaluator = BinaryClassificationEvaluator(labelCol='stroke')\n",
    "print('Test set AUC', evaluator.evaluate(predictions_lr))"
   ],
   "metadata": {
    "collapsed": false,
    "pycharm": {
     "name": "#%%\n"
    }
   }
  },
  {
   "cell_type": "markdown",
   "source": [
    "## Random Forest"
   ],
   "metadata": {
    "collapsed": false,
    "pycharm": {
     "name": "#%% md\n"
    }
   }
  },
  {
   "cell_type": "markdown",
   "source": [
    "#### Definiamo inizialmente il modello:"
   ],
   "metadata": {
    "collapsed": false,
    "pycharm": {
     "name": "#%% md\n"
    }
   }
  },
  {
   "cell_type": "code",
   "execution_count": 58,
   "outputs": [],
   "source": [
    "rf = RandomForestClassifier(featuresCol = 'features', labelCol = 'stroke', numTrees=150)"
   ],
   "metadata": {
    "collapsed": false,
    "pycharm": {
     "name": "#%%\n"
    }
   }
  },
  {
   "cell_type": "markdown",
   "source": [
    "#### Lo addestriamo nel training set:"
   ],
   "metadata": {
    "collapsed": false,
    "pycharm": {
     "name": "#%% md\n"
    }
   }
  },
  {
   "cell_type": "code",
   "execution_count": 59,
   "outputs": [],
   "source": [
    "rfModel = rf.fit(training_set)"
   ],
   "metadata": {
    "collapsed": false,
    "pycharm": {
     "name": "#%%\n"
    }
   }
  },
  {
   "cell_type": "markdown",
   "source": [
    "#### E andiamo a fare predizione attraverso il test set:"
   ],
   "metadata": {
    "collapsed": false,
    "pycharm": {
     "name": "#%% md\n"
    }
   }
  },
  {
   "cell_type": "code",
   "execution_count": 60,
   "outputs": [
    {
     "name": "stdout",
     "output_type": "stream",
     "text": [
      "+------+---------+--------------------+--------------------+----------+\n",
      "|stroke| features|       rawPrediction|         probability|prediction|\n",
      "+------+---------+--------------------+--------------------+----------+\n",
      "|     0|(9,[],[])|[145.635216933013...|[0.97090144622009...|       0.0|\n",
      "|     0|(9,[],[])|[145.635216933013...|[0.97090144622009...|       0.0|\n",
      "|     0|(9,[],[])|[145.635216933013...|[0.97090144622009...|       0.0|\n",
      "|     0|(9,[],[])|[145.635216933013...|[0.97090144622009...|       0.0|\n",
      "|     0|(9,[],[])|[145.635216933013...|[0.97090144622009...|       0.0|\n",
      "|     0|(9,[],[])|[145.635216933013...|[0.97090144622009...|       0.0|\n",
      "|     0|(9,[],[])|[145.635216933013...|[0.97090144622009...|       0.0|\n",
      "|     0|(9,[],[])|[145.635216933013...|[0.97090144622009...|       0.0|\n",
      "|     0|(9,[],[])|[145.635216933013...|[0.97090144622009...|       0.0|\n",
      "|     0|(9,[],[])|[145.635216933013...|[0.97090144622009...|       0.0|\n",
      "|     0|(9,[],[])|[145.635216933013...|[0.97090144622009...|       0.0|\n",
      "|     0|(9,[],[])|[145.635216933013...|[0.97090144622009...|       0.0|\n",
      "|     0|(9,[],[])|[145.635216933013...|[0.97090144622009...|       0.0|\n",
      "|     0|(9,[],[])|[145.635216933013...|[0.97090144622009...|       0.0|\n",
      "|     0|(9,[],[])|[145.635216933013...|[0.97090144622009...|       0.0|\n",
      "|     0|(9,[],[])|[145.635216933013...|[0.97090144622009...|       0.0|\n",
      "|     0|(9,[],[])|[145.635216933013...|[0.97090144622009...|       0.0|\n",
      "|     0|(9,[],[])|[145.635216933013...|[0.97090144622009...|       0.0|\n",
      "|     0|(9,[],[])|[145.635216933013...|[0.97090144622009...|       0.0|\n",
      "|     0|(9,[],[])|[145.635216933013...|[0.97090144622009...|       0.0|\n",
      "+------+---------+--------------------+--------------------+----------+\n",
      "only showing top 20 rows\n",
      "\n"
     ]
    }
   ],
   "source": [
    "predictions_rf = rfModel.transform(test_set)\n",
    "predictions_rf.show()"
   ],
   "metadata": {
    "collapsed": false,
    "pycharm": {
     "name": "#%%\n"
    }
   }
  },
  {
   "cell_type": "markdown",
   "source": [
    "\n",
    "#### Infine andiamo a valutare le prestazioni del modello:"
   ],
   "metadata": {
    "collapsed": false,
    "pycharm": {
     "name": "#%% md\n"
    }
   }
  },
  {
   "cell_type": "code",
   "execution_count": 61,
   "outputs": [
    {
     "name": "stdout",
     "output_type": "stream",
     "text": [
      "Accuracy = 0.8103016624734842\n",
      "Test Error = 0.18969833752651577\n"
     ]
    }
   ],
   "source": [
    "evaluator = BinaryClassificationEvaluator(labelCol=\"stroke\")\n",
    "accuracy = evaluator.evaluate(predictions_rf)\n",
    "print(\"Accuracy = %s\" % accuracy)\n",
    "print(\"Test Error = %s\" % (1.0 - accuracy))"
   ],
   "metadata": {
    "collapsed": false,
    "pycharm": {
     "name": "#%%\n"
    }
   }
  },
  {
   "cell_type": "code",
   "execution_count": 61,
   "outputs": [],
   "source": [],
   "metadata": {
    "collapsed": false,
    "pycharm": {
     "name": "#%%\n"
    }
   }
  }
 ],
 "metadata": {
  "kernelspec": {
   "display_name": "Python 3",
   "language": "python",
   "name": "python3"
  },
  "language_info": {
   "codemirror_mode": {
    "name": "ipython",
    "version": 2
   },
   "file_extension": ".py",
   "mimetype": "text/x-python",
   "name": "python",
   "nbconvert_exporter": "python",
   "pygments_lexer": "ipython2",
   "version": "2.7.6"
  }
 },
 "nbformat": 4,
 "nbformat_minor": 0
}